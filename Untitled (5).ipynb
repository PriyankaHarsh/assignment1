{
 "cells": [
  {
   "cell_type": "markdown",
   "id": "b78b935b-1178-40da-8e45-5769e532a7b9",
   "metadata": {},
   "source": [
    "1)What is the primary goal of Object-Oriented Programming (OOP)?"
   ]
  },
  {
   "cell_type": "markdown",
   "id": "839bae42-e2eb-4f9a-ae9a-86670982f0b5",
   "metadata": {},
   "source": [
    "The primary goal of Object-Oriented Programming (OOP) is to design software in a way that models real-world entities and their interactions, making it easier to understand, organize, and maintain code. OOP is based on the concept of \"objects,\" which are instances of classes representing real-world entities. These objects encapsulate data (attributes or properties) and behavior (methods or functions) that operate on the data.\n",
    "\n",
    "Key principles of OOP include:\n",
    "\n",
    "Encapsulation: Encapsulation involves bundling the data (attributes) and the methods (functions) that operate on the data into a single unit, i.e., an object. This helps hide the internal details of how an object works, and users can interact with it through a well-defined interface.\n",
    "\n",
    "Inheritance: Inheritance allows one class (subclass or derived class) to inherit the properties and behaviors of another class (superclass or base class). This promotes code reuse and establishes a hierarchy of classes, enhancing modularity and extensibility.\n",
    "\n",
    "Polymorphism: Polymorphism allows objects of different classes to be treated as objects of a common superclass. It enables flexibility in using different objects interchangeably, as long as they adhere to a shared interface. Polymorphism can be achieved through method overloading and method overriding.\n",
    "\n",
    "By adhering to these principles, OOP aims to create more modular, maintainable, and scalable software systems. It enhances code organization, reduces complexity, and facilitates the development and maintenance of software applications, making it a widely used paradigm in modern programming."
   ]
  },
  {
   "cell_type": "markdown",
   "id": "d6e8a1e2-32f6-49e4-8dee-9d6a9a8e419b",
   "metadata": {},
   "source": [
    "2)What is an object in Python?"
   ]
  },
  {
   "cell_type": "markdown",
   "id": "c9b1a31d-51f8-431b-a09e-15cfbd21c3d6",
   "metadata": {},
   "source": [
    "In Python, an object is a fundamental building block representing a data structure or entity. Everything in Python, be it numbers, strings, or more complex structures, is an object. Each object has three main characteristics:\n",
    "\n",
    "Identity: Objects have a unique identifier assigned by the Python interpreter. You can obtain an object's identity using the id() function.\n",
    "\n",
    "Type: The type of an object defines its nature and the operations that can be performed on it. The type() function helps identify the type of an object.\n",
    "\n",
    "Value: The value is the actual data held by the object. For instance, an integer object might have the value 5, and a string object might contain the value \"hello.\"\n",
    "\n",
    "Objects can belong to built-in types (e.g., int, str) or user-defined classes. Classes are blueprints for creating objects with specific attributes and methods. When you create an instance of a class, you're creating an object."
   ]
  },
  {
   "cell_type": "code",
   "execution_count": 2,
   "id": "ac6dac57-8f8e-4a2d-a05e-f26aed911d24",
   "metadata": {},
   "outputs": [],
   "source": [
    "\n",
    "# Float object\n",
    "pi = 3.14\n",
    "\n",
    "# Tuple object\n",
    "coordinates = (2, 4)\n",
    "\n",
    "# Dictionary object\n",
    "student_info = {'name': 'Alice', 'age': 20, 'grade': 'A'}\n",
    "\n",
    "# User-defined class\n",
    "class Car:\n",
    "    def __init__(self, brand, model):\n",
    "        self.brand = brand\n",
    "        self.model = model\n",
    "\n",
    "# Creating an instance of the Car class\n",
    "my_car = Car(\"Toyota\", \"Camry\")"
   ]
  },
  {
   "cell_type": "markdown",
   "id": "db955a3c-1c34-4e95-b6f5-5112429818d1",
   "metadata": {},
   "source": [
    "In this updated example, pi, coordinates, student_info, and my_car are additional objects. pi is a float object, coordinates is a tuple object, and student_info is a dictionary object. The Car class defines a blueprint for creating car objects, and my_car is an instance of this class.\n",
    "\n",
    "Each object, regardless of type, follows the three fundamental characteristics: identity, type, and value. These examples showcase the versatility of objects in Python, encompassing various data types and user-defined classes."
   ]
  },
  {
   "cell_type": "markdown",
   "id": "92e11896-36cb-4822-8582-48bb9d4e739a",
   "metadata": {},
   "source": [
    "3)What is a class in Python?"
   ]
  },
  {
   "cell_type": "markdown",
   "id": "5801c3e2-01a5-4402-9bb7-d7b9ab406f74",
   "metadata": {},
   "source": [
    "\n",
    "In Python, a class is a blueprint for creating objects. It is a way to define a data structure that encapsulates data (attributes) and the functions that operate on the data (methods). Objects are instances of classes, and they inherit the properties and behaviors defined by the class.\n",
    "\n",
    "Here are key concepts related to classes in Python:\n",
    "\n",
    "Attributes: Attributes are variables that store data within a class. They represent the characteristics or properties of the objects created from the class.\n",
    "\n",
    "Methods: Methods are functions defined within a class. They define the behavior of the objects created from the class. Methods can operate on the attributes of the class and perform specific actions.\n",
    "\n",
    "Object: An object is an instance of a class. It is a concrete realization of the class blueprint, with its own set of attributes and, potentially, modified behavior.\n",
    "\n",
    "Constructor (__init__): The __init__ method is a special method in a class that is called when an object is created. It is used to initialize the attributes of the object.\n",
    "\n",
    "Here's a simple example of a class in Python:"
   ]
  },
  {
   "cell_type": "code",
   "execution_count": 3,
   "id": "b326a873-746a-4061-8496-fa4d6835ab00",
   "metadata": {},
   "outputs": [
    {
     "name": "stdout",
     "output_type": "stream",
     "text": [
      "Blue 2022 Toyota Camry\n",
      "The Blue 2022 Toyota Camry's engine is now running.\n",
      "The Blue 2022 Toyota Camry's engine is now stopped.\n",
      "Red 2021 Honda Accord\n",
      "The Red 2021 Honda Accord's engine is now running.\n",
      "The engine is already running.\n"
     ]
    }
   ],
   "source": [
    "class Car:\n",
    "    def __init__(self, make, model, year, color):\n",
    "        self.make = make\n",
    "        self.model = model\n",
    "        self.year = year\n",
    "        self.color = color\n",
    "        self.is_running = False\n",
    "\n",
    "    def start_engine(self):\n",
    "        if not self.is_running:\n",
    "            self.is_running = True\n",
    "            print(f\"The {self.color} {self.year} {self.make} {self.model}'s engine is now running.\")\n",
    "        else:\n",
    "            print(\"The engine is already running.\")\n",
    "\n",
    "    def stop_engine(self):\n",
    "        if self.is_running:\n",
    "            self.is_running = False\n",
    "            print(f\"The {self.color} {self.year} {self.make} {self.model}'s engine is now stopped.\")\n",
    "        else:\n",
    "            print(\"The engine is already stopped.\")\n",
    "\n",
    "# Creating instances of the Car class\n",
    "car1 = Car(\"Toyota\", \"Camry\", 2022, \"Blue\")\n",
    "car2 = Car(\"Honda\", \"Accord\", 2021, \"Red\")\n",
    "\n",
    "# Accessing attributes and calling methods\n",
    "print(f\"{car1.color} {car1.year} {car1.make} {car1.model}\")\n",
    "car1.start_engine()\n",
    "car1.stop_engine()\n",
    "\n",
    "print(f\"{car2.color} {car2.year} {car2.make} {car2.model}\")\n",
    "car2.start_engine()\n",
    "car2.start_engine()  # Trying to start the engine again"
   ]
  },
  {
   "cell_type": "markdown",
   "id": "313d3be3-ab06-4aa0-8c1f-a2d240d0aab3",
   "metadata": {},
   "source": [
    "In this example, the Car class has attributes like make, model, year, color, and a boolean attribute is_running. The class also has methods start_engine and stop_engine to simulate starting and stopping the car's engine. Instances car1 and car2 demonstrate how you can use this class to model different cars and interact with their attributes and methods."
   ]
  },
  {
   "cell_type": "markdown",
   "id": "b8af5253-8022-4568-a739-a3b1902d76c3",
   "metadata": {},
   "source": [
    "4)What are attributes and methods in a class?"
   ]
  },
  {
   "cell_type": "markdown",
   "id": "09921b4a-baa1-40fc-a1c2-7618e545e2af",
   "metadata": {},
   "source": [
    "Attributes are variables that store data within a class, representing the characteristics or properties of objects.\n",
    "In a Car class, attributes could include make, model, year, and color."
   ]
  },
  {
   "cell_type": "code",
   "execution_count": 4,
   "id": "6166aa29-9cf3-489a-8299-8bca43f96f0d",
   "metadata": {},
   "outputs": [],
   "source": [
    "class Car:\n",
    "    def __init__(self, make, model, year, color):\n",
    "        self.make = make\n",
    "        self.model = model\n",
    "        self.year = year\n",
    "        self.color = color"
   ]
  },
  {
   "cell_type": "markdown",
   "id": "2edc7737-bf4f-44b4-948b-f5a93c2695c3",
   "metadata": {},
   "source": [
    "Methods:\n",
    "\n",
    "Methods are functions defined within a class, representing the behavior or actions that objects can perform.\n",
    "In a Car class, a start_engine method could simulate starting the car's engine"
   ]
  },
  {
   "cell_type": "code",
   "execution_count": 5,
   "id": "12b9ce04-e096-4e52-86dd-303f6186f1ec",
   "metadata": {},
   "outputs": [],
   "source": [
    "class Car:\n",
    "    def start_engine(self):\n",
    "        print(f\"The {self.color} {self.year} {self.make} {self.model}'s engine is now running.\")"
   ]
  },
  {
   "cell_type": "markdown",
   "id": "e7411ef8-52a7-47d5-94fb-112d8b863164",
   "metadata": {},
   "source": [
    "In short, attributes define what an object is, and methods define what it can do. In the car example, attributes like make and model describe the car, while the start_engine method represents an action the car can perform."
   ]
  },
  {
   "cell_type": "markdown",
   "id": "9a1bc333-f2e5-4338-b4b1-d7b276fce3d3",
   "metadata": {},
   "source": [
    "5)What is the difference between class variables and instance variables in Python?"
   ]
  },
  {
   "cell_type": "markdown",
   "id": "3c2020bd-cd6f-4524-9cd9-646b850675a3",
   "metadata": {},
   "source": [
    "In Python, class variables and instance variables are two types of variables used within a class. They differ in their scope, usage, and how they are accessed.\n",
    "\n",
    "a)Class Variables:\n",
    "\n",
    "Class variables are shared among all instances of a class.\n",
    "They are defined outside of any method in the class and are typically placed at the top of the class definition.\n",
    "Class variables are shared by all instances of the class, meaning any modification to the class variable is reflected in all instances.\n",
    "They are accessed using the class name or through an instance.\n",
    "Example:"
   ]
  },
  {
   "cell_type": "code",
   "execution_count": 6,
   "id": "f00f38dd-3f1e-4c02-88bc-a1c867b85e1b",
   "metadata": {},
   "outputs": [],
   "source": [
    "class Car:\n",
    "    # Class variable\n",
    "    total_cars = 0\n",
    "\n",
    "    def __init__(self, make, model):\n",
    "        # Instance variables\n",
    "        self.make = make\n",
    "        self.model = model\n",
    "        # Incrementing the class variable in the constructor\n",
    "        Car.total_cars += 1\n",
    "#Here, total_cars is a class variable shared by all instances of the Car class."
   ]
  },
  {
   "cell_type": "markdown",
   "id": "bff3d285-e024-4137-b7b4-bc7a7e423771",
   "metadata": {},
   "source": [
    "b) Instance Variables:\n",
    "\n",
    "Instance variables are specific to each instance of a class.\n",
    "They are defined within methods, usually within the __init__ method, and are prefixed with self.\n",
    "Each instance has its own copy of instance variables, and changes to these variables do not affect other instances.\n",
    "They are accessed using the instance name.\n",
    "Example:"
   ]
  },
  {
   "cell_type": "code",
   "execution_count": 7,
   "id": "73ab111e-a62f-41df-9415-cd8b877f5e71",
   "metadata": {},
   "outputs": [],
   "source": [
    "class Car:\n",
    "    def __init__(self, make, model):\n",
    "        # Instance variables\n",
    "        self.make = make\n",
    "        self.model = model\n"
   ]
  },
  {
   "cell_type": "markdown",
   "id": "174dd4d1-e2f6-4fbd-878c-98c553db3c3a",
   "metadata": {},
   "source": [
    "In this example, make and model are instance variables specific to each instance of the Car class.\n",
    "\n",
    "In summary, class variables are shared among all instances of a class, while instance variables are specific to each instance. Class variables are often used to store information that is common to all instances, while instance variables store data unique to each object created from the class."
   ]
  },
  {
   "cell_type": "markdown",
   "id": "52d23a94-31b2-49e1-9a67-922254bb6b08",
   "metadata": {},
   "source": [
    "6)What is the purpose of the self parameter in Python class methods?"
   ]
  },
  {
   "cell_type": "markdown",
   "id": "dc05bf5f-5e99-4d5b-b270-643598702f22",
   "metadata": {},
   "source": [
    "The self parameter in Python class methods serves the purpose of referring to the instance of the class. It allows methods to operate on the specific attributes and behaviors of the instance. Example:"
   ]
  },
  {
   "cell_type": "code",
   "execution_count": 8,
   "id": "a303272f-9e2a-4e05-ae67-32ebcd794a7b",
   "metadata": {},
   "outputs": [
    {
     "name": "stdout",
     "output_type": "stream",
     "text": [
      "2022 Toyota Camry\n",
      "The 2022 Toyota Camry's engine is now running.\n",
      "The 2022 Toyota Camry's engine is now stopped.\n",
      "2021 Honda Accord\n",
      "The 2021 Honda Accord's engine is now running.\n",
      "The engine is already running.\n"
     ]
    }
   ],
   "source": [
    "class Car:\n",
    "    def __init__(self, make, model, year):\n",
    "        self.make = make\n",
    "        self.model = model\n",
    "        self.year = year\n",
    "        self.is_running = False\n",
    "\n",
    "    def start_engine(self):\n",
    "        if not self.is_running:\n",
    "            self.is_running = True\n",
    "            print(f\"The {self.year} {self.make} {self.model}'s engine is now running.\")\n",
    "        else:\n",
    "            print(\"The engine is already running.\")\n",
    "\n",
    "    def stop_engine(self):\n",
    "        if self.is_running:\n",
    "            self.is_running = False\n",
    "            print(f\"The {self.year} {self.make} {self.model}'s engine is now stopped.\")\n",
    "        else:\n",
    "            print(\"The engine is already stopped.\")\n",
    "\n",
    "# Creating instances of the Car class\n",
    "car1 = Car(\"Toyota\", \"Camry\", 2022)\n",
    "car2 = Car(\"Honda\", \"Accord\", 2021)\n",
    "\n",
    "# Accessing attributes and calling methods using 'self'\n",
    "print(f\"{car1.year} {car1.make} {car1.model}\")\n",
    "car1.start_engine()\n",
    "car1.stop_engine()\n",
    "\n",
    "print(f\"{car2.year} {car2.make} {car2.model}\")\n",
    "car2.start_engine()\n",
    "car2.start_engine()  # Trying to start the engine again\n"
   ]
  },
  {
   "cell_type": "markdown",
   "id": "5853c2e0-eed6-41ba-b583-708c226bbbc8",
   "metadata": {},
   "source": [
    "In this example, the start_engine and stop_engine methods use the self parameter to access the specific instance's attributes (is_running, year, make, model). The use of self allows these methods to differentiate between different cars and operate on their unique data.\n"
   ]
  },
  {
   "cell_type": "markdown",
   "id": "a976f134-a4a4-4655-8503-c59dcb1984f9",
   "metadata": {},
   "source": [
    "7)For a library management system, you have to design the \"Book\" class with OOP\n",
    "principles in mind. The “Book” class will have following attributes:\n",
    "a. title: Represents the title of the book.\n",
    "b. author: Represents the author(s) of the book.\n",
    "c. isbn: Represents the ISBN (International Standard Book Number) of the book.\n",
    "d. publication_year: Represents the year of publication of the book.\n",
    "e. available_copies: Represents the number of copies available for checkout.\n",
    "The class will also include the following methods:\n",
    "a. check_out(self): Decrements the available copies by one if there are copies\n",
    "available for checkout.\n",
    "b. return_book(self): Increments the available copies by one when a book is\n",
    "returned.\n",
    "c. display_book_info(self): Displays the information about the book, including its\n",
    "attributes and the number of available copies."
   ]
  },
  {
   "cell_type": "code",
   "execution_count": 1,
   "id": "e61b27a6-a22c-4a61-8171-8b80ad6d8688",
   "metadata": {},
   "outputs": [
    {
     "name": "stdout",
     "output_type": "stream",
     "text": [
      "Title: Harry Potter and the Philosopher's Stone\n",
      "Author(s): J.K. Rowling\n",
      "ISBN: 978-0-7475-3269-6\n",
      "Publication Year: 1997\n",
      "Available Copies: 10\n",
      "A copy of 'Harry Potter and the Philosopher's Stone' by J.K. Rowling has been checked out. 9 copies available.\n",
      "A copy of 'Harry Potter and the Philosopher's Stone' by J.K. Rowling has been returned. 10 copies available.\n",
      "Title: Harry Potter and the Philosopher's Stone\n",
      "Author(s): J.K. Rowling\n",
      "ISBN: 978-0-7475-3269-6\n",
      "Publication Year: 1997\n",
      "Available Copies: 10\n"
     ]
    }
   ],
   "source": [
    "class Book:\n",
    "    def __init__(self, title, author, isbn, publication_year, available_copies):\n",
    "        self.title = title\n",
    "        self.author = author\n",
    "        self.isbn = isbn\n",
    "        self.publication_year = publication_year\n",
    "        self.available_copies = available_copies\n",
    "\n",
    "    def check_out(self):\n",
    "        if self.available_copies > 0:\n",
    "            self.available_copies -= 1\n",
    "            print(f\"A copy of '{self.title}' by {self.author} has been checked out. {self.available_copies} copies available.\")\n",
    "        else:\n",
    "            print(f\"Sorry, no copies of '{self.title}' are available for checkout.\")\n",
    "\n",
    "    def return_book(self):\n",
    "        self.available_copies += 1\n",
    "        print(f\"A copy of '{self.title}' by {self.author} has been returned. {self.available_copies} copies available.\")\n",
    "\n",
    "    def display_book_info(self):\n",
    "        print(f\"Title: {self.title}\")\n",
    "        print(f\"Author(s): {self.author}\")\n",
    "        print(f\"ISBN: {self.isbn}\")\n",
    "        print(f\"Publication Year: {self.publication_year}\")\n",
    "        print(f\"Available Copies: {self.available_copies}\")\n",
    "\n",
    "# Example usage for the book \"Harry Potter\"\n",
    "harry_potter = Book(\"Harry Potter and the Philosopher's Stone\", \"J.K. Rowling\", \"978-0-7475-3269-6\", 1997, 10)\n",
    "\n",
    "# Display book information\n",
    "harry_potter.display_book_info()\n",
    "\n",
    "# Check out a copy\n",
    "harry_potter.check_out()\n",
    "\n",
    "# Return the book\n",
    "harry_potter.return_book()\n",
    "\n",
    "# Display updated information\n",
    "harry_potter.display_book_info()\n"
   ]
  },
  {
   "cell_type": "markdown",
   "id": "3954abe1-0154-4fe3-bdbd-a8408f4f96ec",
   "metadata": {},
   "source": [
    "8)For a ticket booking system, you have to design the \"Ticket\" class with OOP\n",
    "principles in mind. The “Ticket” class should have the following attributes:\n",
    "a. ticket_id: Represents the unique identifier for the ticket.\n",
    "b. event_name: Represents the name of the event.\n",
    "c. event_date: Represents the date of the event.\n",
    "d. venue: Represents the venue of the event.\n",
    "e. seat_number: Represents the seat number associated with the ticket.\n",
    "f. price: Represents the price of the ticket.\n",
    "g. is_reserved: Represents the reservation status of the ticket.\n",
    "The class also includes the following methods:\n",
    "a. reserve_ticket(self): Marks the ticket as reserved if it is not already reserved.\n",
    "b. cancel_reservation(self): Cancels the reservation of the ticket if it is already\n",
    "reserved.\n",
    "c. display_ticket_info(self): Displays the information about the ticket, including its\n",
    "attributes and reservation status."
   ]
  },
  {
   "cell_type": "code",
   "execution_count": 10,
   "id": "6c62bcfd-6c6d-4bea-b566-b2b9d5cc699a",
   "metadata": {},
   "outputs": [
    {
     "name": "stdout",
     "output_type": "stream",
     "text": [
      "Ticket ID: 1\n",
      "Event Name: Concert\n",
      "Event Date: 2022-02-15\n",
      "Venue: Music Hall\n",
      "Seat Number: A-101\n",
      "Price: $50.0\n",
      "Reservation Status: Not Reserved\n",
      "Ticket 1 for Concert on 2022-02-15 at Music Hall has been reserved.\n",
      "Ticket ID: 1\n",
      "Event Name: Concert\n",
      "Event Date: 2022-02-15\n",
      "Venue: Music Hall\n",
      "Seat Number: A-101\n",
      "Price: $50.0\n",
      "Reservation Status: Reserved\n",
      "Reservation for Ticket 1 has been canceled.\n",
      "Ticket ID: 1\n",
      "Event Name: Concert\n",
      "Event Date: 2022-02-15\n",
      "Venue: Music Hall\n",
      "Seat Number: A-101\n",
      "Price: $50.0\n",
      "Reservation Status: Not Reserved\n"
     ]
    }
   ],
   "source": [
    "class Ticket:\n",
    "    def __init__(self, ticket_id, event_name, event_date, venue, seat_number, price):\n",
    "        self.ticket_id = ticket_id\n",
    "        self.event_name = event_name\n",
    "        self.event_date = event_date\n",
    "        self.venue = venue\n",
    "        self.seat_number = seat_number\n",
    "        self.price = price\n",
    "        self.is_reserved = False\n",
    "\n",
    "    def reserve_ticket(self):\n",
    "        if not self.is_reserved:\n",
    "            self.is_reserved = True\n",
    "            print(f\"Ticket {self.ticket_id} for {self.event_name} on {self.event_date} at {self.venue} has been reserved.\")\n",
    "        else:\n",
    "            print(\"Ticket is already reserved.\")\n",
    "\n",
    "    def cancel_reservation(self):\n",
    "        if self.is_reserved:\n",
    "            self.is_reserved = False\n",
    "            print(f\"Reservation for Ticket {self.ticket_id} has been canceled.\")\n",
    "        else:\n",
    "            print(\"Ticket is not currently reserved.\")\n",
    "\n",
    "    def display_ticket_info(self):\n",
    "        print(f\"Ticket ID: {self.ticket_id}\")\n",
    "        print(f\"Event Name: {self.event_name}\")\n",
    "        print(f\"Event Date: {self.event_date}\")\n",
    "        print(f\"Venue: {self.venue}\")\n",
    "        print(f\"Seat Number: {self.seat_number}\")\n",
    "        print(f\"Price: ${self.price}\")\n",
    "        print(f\"Reservation Status: {'Reserved' if self.is_reserved else 'Not Reserved'}\")\n",
    "\n",
    "# Example usage:\n",
    "ticket1 = Ticket(1, \"Concert\", \"2022-02-15\", \"Music Hall\", \"A-101\", 50.0)\n",
    "ticket1.display_ticket_info()\n",
    "\n",
    "ticket1.reserve_ticket()\n",
    "ticket1.display_ticket_info()\n",
    "\n",
    "ticket1.cancel_reservation()\n",
    "ticket1.display_ticket_info()\n"
   ]
  },
  {
   "cell_type": "markdown",
   "id": "8497c7ab-052e-4fef-888a-c2445999e387",
   "metadata": {},
   "source": [
    "9)You are creating a shopping cart for an e-commerce website. Using OOP to model\n",
    "the \"ShoppingCart\" functionality the class should contain following attributes and\n",
    "methods:\n",
    "a. items: Represents the list of items in the shopping cart.\n",
    "The class also includes the following methods:\n",
    "\n",
    "a. add_item(self, item): Adds an item to the shopping cart by appending it to the\n",
    "list of items.\n",
    "b. remove_item(self, item): Removes an item from the shopping cart if it exists in\n",
    "the list.\n",
    "c. view_cart(self): Displays the items currently present in the shopping cart.\n",
    "d. clear_cart(self): Clears all items from the shopping cart by reassigning an\n",
    "empty list to the items attribute."
   ]
  },
  {
   "cell_type": "code",
   "execution_count": 11,
   "id": "dab86fb0-991a-4dcd-94cd-9ea0b0da7524",
   "metadata": {},
   "outputs": [
    {
     "name": "stdout",
     "output_type": "stream",
     "text": [
      "Laptop added to the shopping cart.\n",
      "Phone added to the shopping cart.\n",
      "Items in the shopping cart:\n",
      "- Laptop\n",
      "- Phone\n",
      "Phone removed from the shopping cart.\n",
      "Items in the shopping cart:\n",
      "- Laptop\n",
      "Shopping cart cleared.\n",
      "Shopping cart is empty.\n"
     ]
    }
   ],
   "source": [
    "class ShoppingCart:\n",
    "    def __init__(self):\n",
    "        self.items = []\n",
    "\n",
    "    def add_item(self, item):\n",
    "        self.items.append(item)\n",
    "        print(f\"{item} added to the shopping cart.\")\n",
    "\n",
    "    def remove_item(self, item):\n",
    "        if item in self.items:\n",
    "            self.items.remove(item)\n",
    "            print(f\"{item} removed from the shopping cart.\")\n",
    "        else:\n",
    "            print(f\"{item} is not in the shopping cart.\")\n",
    "\n",
    "    def view_cart(self):\n",
    "        if not self.items:\n",
    "            print(\"Shopping cart is empty.\")\n",
    "        else:\n",
    "            print(\"Items in the shopping cart:\")\n",
    "            for item in self.items:\n",
    "                print(f\"- {item}\")\n",
    "\n",
    "    def clear_cart(self):\n",
    "        self.items = []\n",
    "        print(\"Shopping cart cleared.\")\n",
    "\n",
    "# Example usage:\n",
    "cart = ShoppingCart()\n",
    "\n",
    "cart.add_item(\"Laptop\")\n",
    "cart.add_item(\"Phone\")\n",
    "cart.view_cart()\n",
    "\n",
    "cart.remove_item(\"Phone\")\n",
    "cart.view_cart()\n",
    "\n",
    "cart.clear_cart()\n",
    "cart.view_cart()\n"
   ]
  },
  {
   "cell_type": "markdown",
   "id": "cc201562-9041-4fc3-9f5f-8f613cae9b92",
   "metadata": {},
   "source": [
    "10)Imagine a school management system. You have to design the \"Student\" class using\n",
    "OOP concepts.The “Student” class has the following attributes:\n",
    "a. name: Represents the name of the student.\n",
    "b. age: Represents the age of the student.\n",
    "c. grade: Represents the grade or class of the student.\n",
    "d. student_id: Represents the unique identifier for the student.\n",
    "e. attendance: Represents the attendance record of the student.\n",
    "The class should also include the following methods:\n",
    "a. update_attendance(self, date, status): Updates the attendance record of the\n",
    "student for a given date with the provided status (e.g., present or absent).\n",
    "b. get_attendance(self): Returns the attendance record of the student.\n",
    "c. get_average_attendance(self): Calculates and returns the average\n",
    "attendance percentage of the student based on their attendance record."
   ]
  },
  {
   "cell_type": "code",
   "execution_count": 2,
   "id": "70b8ec79-1b3d-4119-9973-8f64051fa622",
   "metadata": {},
   "outputs": [
    {
     "name": "stdout",
     "output_type": "stream",
     "text": [
      "Attendance for Priyanka on 2022-02-01 updated: present\n",
      "Attendance for Priyanka on 2022-02-02 updated: absent\n",
      "Attendance for Priyanka on 2022-02-03 updated: present\n",
      "Priyanka's attendance: {'2022-02-01': 'present', '2022-02-02': 'absent', '2022-02-03': 'present'}\n",
      "Priyanka's average attendance: 66.67%\n"
     ]
    }
   ],
   "source": [
    "class Student:\n",
    "    def __init__(self, name, age, grade, student_id):\n",
    "        self.name = name\n",
    "        self.age = age\n",
    "        self.grade = grade\n",
    "        self.student_id = student_id\n",
    "        self.attendance = {}  # Using a dictionary to store attendance (date: status)\n",
    "\n",
    "    def update_attendance(self, date, status):\n",
    "        if date not in self.attendance:\n",
    "            self.attendance[date] = status\n",
    "            print(f\"Attendance for {self.name} on {date} updated: {status}\")\n",
    "        else:\n",
    "            print(f\"Attendance for {self.name} on {date} already recorded as {self.attendance[date]}\")\n",
    "\n",
    "    def get_attendance(self):\n",
    "        return self.attendance\n",
    "\n",
    "    def get_average_attendance(self):\n",
    "        if not self.attendance:\n",
    "            return 0.0\n",
    "\n",
    "        total_days = len(self.attendance)\n",
    "        present_days = sum(status == 'present' for status in self.attendance.values())\n",
    "        average_percentage = (present_days / total_days) * 100\n",
    "        return average_percentage\n",
    "\n",
    "# Example usage \n",
    "student1 = Student(\"Priyanka\", 18, 12, \"S12345\")\n",
    "\n",
    "# Updating attendance\n",
    "student1.update_attendance(\"2022-02-01\", \"present\")\n",
    "student1.update_attendance(\"2022-02-02\", \"absent\")\n",
    "student1.update_attendance(\"2022-02-03\", \"present\")\n",
    "\n",
    "# Displaying attendance\n",
    "print(f\"{student1.name}'s attendance: {student1.get_attendance()}\")\n",
    "\n",
    "# Calculating average attendance\n",
    "average_attendance = student1.get_average_attendance()\n",
    "print(f\"{student1.name}'s average attendance: {average_attendance:.2f}%\")\n"
   ]
  }
 ],
 "metadata": {
  "kernelspec": {
   "display_name": "Python 3 (ipykernel)",
   "language": "python",
   "name": "python3"
  },
  "language_info": {
   "codemirror_mode": {
    "name": "ipython",
    "version": 3
   },
   "file_extension": ".py",
   "mimetype": "text/x-python",
   "name": "python",
   "nbconvert_exporter": "python",
   "pygments_lexer": "ipython3",
   "version": "3.10.6"
  }
 },
 "nbformat": 4,
 "nbformat_minor": 5
}
